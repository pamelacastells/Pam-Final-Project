{
 "cells": [
  {
   "cell_type": "code",
   "execution_count": null,
   "metadata": {},
   "outputs": [],
   "source": [
    "#Unit 5: Final Project\n",
    "\n",
    "For my final project,I will develop a data-driven notebook to model and visualize coral bleaching patterns, \n",
    "emphasizing the current scale and urgency of the problem."
   ]
  },
  {
   "cell_type": "markdown",
   "metadata": {},
   "source": []
  },
  {
   "cell_type": "code",
   "execution_count": null,
   "metadata": {},
   "outputs": [],
   "source": [
    "import pandas as pd\n",
    "import seaborn.objects as so\n",
    "\n",
    "df = pd.read_csv(https://www.ncei.noaa.gov/data/oceans/crw/5km/v3.1/climatology/nc/, sep=\"\\s+\", comment=\"#\", names= columns)\n",
    "df\n",
    "\n"
   ]
  }
 ],
 "metadata": {
  "language_info": {
   "name": "python"
  }
 },
 "nbformat": 4,
 "nbformat_minor": 2
}
